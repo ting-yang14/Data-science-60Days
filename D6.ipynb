{
 "cells": [
  {
   "cell_type": "markdown",
   "metadata": {
    "id": "P6xk2_jLsvFF"
   },
   "source": [
    "# [作業目標]\n",
    "\n",
    "1. [簡答題] 請問下列這三種方法有什麼不同？\n",
    "\n",
    "```\n",
    "print(a.sum()) \n",
    "print(np.sum(a))\n",
    "print(sum(a)) \n",
    "```\n",
    "\n",
    "2. 請對一個 5x5 的隨機矩陣作正規化的操作。\n",
    "\n",
    "3. 請建立一個長度等於 10 的正整數向量，並且將其中的最大值改成 -1。\n"
   ]
  },
  {
   "cell_type": "markdown",
   "metadata": {
    "id": "uXGll28asvFS"
   },
   "source": [
    "# 作業 "
   ]
  },
  {
   "cell_type": "markdown",
   "metadata": {
    "id": "lbz8VjL6jxyL"
   },
   "source": [
    "### 1. [簡答題] 請問下列這三種方法有什麼不同？\n",
    "\n",
    "```\n",
    "print(a.sum()) \n",
    "print(np.sum(a))\n",
    "print(sum(a)) \n",
    "```\n",
    "\n"
   ]
  },
  {
   "cell_type": "code",
   "execution_count": 2,
   "metadata": {
    "id": "5QrYoyNWsvFS",
    "outputId": "e9e14d36-38ce-4ce5-edf2-3c7b129db580"
   },
   "outputs": [
    {
     "name": "stdout",
     "output_type": "stream",
     "text": [
      "a.sum: 45\n",
      "np.sum(a): 45\n",
      "sum(a): 45\n"
     ]
    }
   ],
   "source": [
    "import numpy as np\n",
    "a = np.arange(10)\n",
    "print('a.sum:',a.sum())\n",
    "print('np.sum(a):',np.sum(a))\n",
    "print('sum(a):',sum(a))\n",
    "\n",
    "\n",
    "# sum()是python內建的函數，所有型態都可用。\n",
    "# ndarray.sum()和np.sum()，是陣列專有的函式，差別在定義在np或是array下"
   ]
  },
  {
   "cell_type": "markdown",
   "metadata": {
    "id": "vVrjBXabjxyS"
   },
   "source": [
    "### 2. 請對一個 5x5 的隨機矩陣作正規化的操作。\n"
   ]
  },
  {
   "cell_type": "code",
   "execution_count": 7,
   "metadata": {
    "id": "ffDRVHs9jxyS"
   },
   "outputs": [
    {
     "name": "stdout",
     "output_type": "stream",
     "text": [
      "original:\n",
      " [[0.50544013 0.94757717 0.38325589 0.63057123 0.95601419]\n",
      " [0.35023065 0.09814836 0.99434666 0.30184611 0.7821398 ]\n",
      " [0.46283221 0.97515423 0.02514511 0.93807013 0.32454957]\n",
      " [0.26899203 0.56131352 0.99925819 0.78816375 0.64816173]\n",
      " [0.72030587 0.13478686 0.05675324 0.75352114 0.2072315 ]]\n",
      "normalize_A1:\n",
      " [[0.49305879 0.94694556 0.36762752 0.62151523 0.95560679]\n",
      " [0.33372464 0.0749433  0.99495794 0.28405429 0.77711172]\n",
      " [0.44931857 0.97525547 0.         0.93718588 0.30736109]\n",
      " [0.25032712 0.55041701 1.         0.78329575 0.6395732 ]\n",
      " [0.71363456 0.11255547 0.03244812 0.74773252 0.18692531]]\n"
     ]
    }
   ],
   "source": [
    "# 記得先 Import 正確的套件\n",
    "\n",
    "import numpy as np\n",
    "A = np.random.random((5, 5))\n",
    "\n",
    "normalize_A1 = (A - A.min()) / (A.max() - A.min())\n",
    "print('original:\\n',A)\n",
    "print('normalize_A1:\\n',normalize_A1)"
   ]
  },
  {
   "cell_type": "code",
   "execution_count": null,
   "metadata": {
    "id": "e1gVI0tvsvFY",
    "outputId": "43bf676f-fd04-4edf-c062-b5fe7fe1f4bf"
   },
   "outputs": [
    {
     "data": {
      "text/plain": [
       "array([[0.13197583, 0.1034873 , 0.        , 0.31390653, 0.35846645],\n",
       "       [0.14777047, 0.28417508, 0.75999011, 0.29030305, 0.72055306],\n",
       "       [0.98492508, 0.41249799, 1.        , 0.39756699, 0.39109584],\n",
       "       [0.85537752, 0.84696945, 0.69635415, 0.86720675, 0.61212718],\n",
       "       [0.24295928, 0.99120832, 0.09074347, 0.78251208, 0.57787873]])"
      ]
     },
     "execution_count": 7,
     "metadata": {
      "tags": []
     },
     "output_type": "execute_result"
    }
   ],
   "source": [
    "A = np.random.random((5, 5))\n",
    "\n",
    "'''\n",
    "Your Code\n",
    "'''"
   ]
  },
  {
   "cell_type": "markdown",
   "metadata": {
    "id": "Ptc3ZrNQjxyU"
   },
   "source": [
    "### 3. 請建立一個長度等於 10 的正整數向量，並且將其中的最大值改成 -1。\n"
   ]
  },
  {
   "cell_type": "code",
   "execution_count": null,
   "metadata": {
    "id": "Yu1kbLxojxyU",
    "outputId": "d323e754-178a-46ae-e15e-98275ae220dd"
   },
   "outputs": [
    {
     "name": "stdout",
     "output_type": "stream",
     "text": [
      "[ 0.29347583  0.59303277 -1.          0.38043546  0.63265939  0.32472618\n",
      "  0.11340241  0.68136955  0.89905432  0.74769935]\n"
     ]
    }
   ],
   "source": [
    "A = np.random.random(10)"
   ]
  },
  {
   "cell_type": "code",
   "execution_count": 22,
   "metadata": {
    "id": "IoPlZnZgjxyV"
   },
   "outputs": [
    {
     "name": "stdout",
     "output_type": "stream",
     "text": [
      "[0.77696093 0.00248985 0.5682485  0.08110925 0.98495289 0.31541805\n",
      " 0.01641914 0.436445   0.61231864 0.64893115]\n",
      "[ 0.77696093  0.00248985  0.5682485   0.08110925 -1.          0.31541805\n",
      "  0.01641914  0.436445    0.61231864  0.64893115]\n"
     ]
    }
   ],
   "source": [
    "A = np.random.random(10)\n",
    "print(A)\n",
    "\n",
    "A[A==A.max()]=-1\n",
    "print(A)"
   ]
  },
  {
   "cell_type": "code",
   "execution_count": 23,
   "metadata": {
    "id": "V5bMfGR_jxyV"
   },
   "outputs": [
    {
     "name": "stdout",
     "output_type": "stream",
     "text": [
      "0.7769609259384227\n",
      "(array([0]),)\n"
     ]
    }
   ],
   "source": [
    "# find array index of maximum\n",
    "print(np.amax(A))\n",
    "print(np.where(A==np.amax(A)))"
   ]
  },
  {
   "cell_type": "code",
   "execution_count": null,
   "metadata": {},
   "outputs": [],
   "source": []
  }
 ],
 "metadata": {
  "colab": {
   "name": "06 Homework_維元.ipynb",
   "provenance": []
  },
  "kernelspec": {
   "display_name": "Python 3",
   "language": "python",
   "name": "python3"
  },
  "language_info": {
   "codemirror_mode": {
    "name": "ipython",
    "version": 3
   },
   "file_extension": ".py",
   "mimetype": "text/x-python",
   "name": "python",
   "nbconvert_exporter": "python",
   "pygments_lexer": "ipython3",
   "version": "3.8.5"
  }
 },
 "nbformat": 4,
 "nbformat_minor": 1
}
