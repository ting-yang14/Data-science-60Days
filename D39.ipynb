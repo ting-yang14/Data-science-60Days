{
 "cells": [
  {
   "cell_type": "markdown",
   "metadata": {
    "id": "QaFwqkQyE8GE"
   },
   "source": [
    "## 作業\n",
    "在鐵達尼資料集中，今天我們專注觀察變數之間的相關性，以Titanic_train.csv 中，首先將有遺失值的數值刪除，並回答下列問題。\n",
    "* Q1: 透過數值法計算  Age 和  Survived  是否有相關性?\n",
    "* Q2:透過數值法計算  Sex 和 Survived  是否有相關性?\n",
    "* Q3: 透過數值法計算  Age 和  Fare 是否有相關性?   \n",
    "* 提示:    \n",
    "1.產稱一個新的變數 Survived_cate ，資料型態傳換成類別型態      \n",
    "2.把題目中的 Survived 用 Survived_cate 來做分析       \n",
    "3.首先觀察一下這些變數的資料型態後，再來想要以哪一種判斷倆倆的相關性。     \n"
   ]
  },
  {
   "cell_type": "code",
   "execution_count": 2,
   "metadata": {},
   "outputs": [
    {
     "name": "stdout",
     "output_type": "stream",
     "text": [
      "Collecting pingouin\n",
      "  Downloading pingouin-0.3.12.tar.gz (205 kB)\n",
      "\u001b[K     |████████████████████████████████| 205 kB 1.2 MB/s eta 0:00:01\n",
      "\u001b[?25hRequirement already satisfied: numpy>=1.15 in /Users/lutingyang/opt/anaconda3/lib/python3.8/site-packages (from pingouin) (1.19.2)\n",
      "Requirement already satisfied: scipy>=1.3 in /Users/lutingyang/opt/anaconda3/lib/python3.8/site-packages (from pingouin) (1.5.2)\n",
      "Requirement already satisfied: pandas>=0.24 in /Users/lutingyang/opt/anaconda3/lib/python3.8/site-packages (from pingouin) (1.1.3)\n",
      "Requirement already satisfied: matplotlib>=3.0.2 in /Users/lutingyang/opt/anaconda3/lib/python3.8/site-packages (from pingouin) (3.3.2)\n",
      "Requirement already satisfied: seaborn>=0.9.0 in /Users/lutingyang/opt/anaconda3/lib/python3.8/site-packages (from pingouin) (0.11.0)\n",
      "Requirement already satisfied: statsmodels>=0.10.0 in /Users/lutingyang/opt/anaconda3/lib/python3.8/site-packages (from pingouin) (0.12.0)\n",
      "Requirement already satisfied: scikit-learn in /Users/lutingyang/opt/anaconda3/lib/python3.8/site-packages (from pingouin) (0.23.2)\n",
      "Collecting pandas_flavor>=0.1.2\n",
      "  Downloading pandas_flavor-0.2.0-py2.py3-none-any.whl (6.6 kB)\n",
      "Collecting outdated\n",
      "  Downloading outdated-0.2.1-py3-none-any.whl (7.5 kB)\n",
      "Collecting tabulate\n",
      "  Downloading tabulate-0.8.9-py3-none-any.whl (25 kB)\n",
      "Requirement already satisfied: pytz>=2017.2 in /Users/lutingyang/opt/anaconda3/lib/python3.8/site-packages (from pandas>=0.24->pingouin) (2020.1)\n",
      "Requirement already satisfied: python-dateutil>=2.7.3 in /Users/lutingyang/opt/anaconda3/lib/python3.8/site-packages (from pandas>=0.24->pingouin) (2.8.1)\n",
      "Requirement already satisfied: kiwisolver>=1.0.1 in /Users/lutingyang/opt/anaconda3/lib/python3.8/site-packages (from matplotlib>=3.0.2->pingouin) (1.3.0)\n",
      "Requirement already satisfied: cycler>=0.10 in /Users/lutingyang/opt/anaconda3/lib/python3.8/site-packages (from matplotlib>=3.0.2->pingouin) (0.10.0)\n",
      "Requirement already satisfied: certifi>=2020.06.20 in /Users/lutingyang/opt/anaconda3/lib/python3.8/site-packages (from matplotlib>=3.0.2->pingouin) (2020.6.20)\n",
      "Requirement already satisfied: pyparsing!=2.0.4,!=2.1.2,!=2.1.6,>=2.0.3 in /Users/lutingyang/opt/anaconda3/lib/python3.8/site-packages (from matplotlib>=3.0.2->pingouin) (2.4.7)\n",
      "Requirement already satisfied: pillow>=6.2.0 in /Users/lutingyang/opt/anaconda3/lib/python3.8/site-packages (from matplotlib>=3.0.2->pingouin) (8.0.1)\n",
      "Requirement already satisfied: patsy>=0.5 in /Users/lutingyang/opt/anaconda3/lib/python3.8/site-packages (from statsmodels>=0.10.0->pingouin) (0.5.1)\n",
      "Requirement already satisfied: joblib>=0.11 in /Users/lutingyang/opt/anaconda3/lib/python3.8/site-packages (from scikit-learn->pingouin) (0.17.0)\n",
      "Requirement already satisfied: threadpoolctl>=2.0.0 in /Users/lutingyang/opt/anaconda3/lib/python3.8/site-packages (from scikit-learn->pingouin) (2.1.0)\n",
      "Collecting xarray\n",
      "  Downloading xarray-0.18.2-py3-none-any.whl (807 kB)\n",
      "\u001b[K     |████████████████████████████████| 807 kB 2.1 MB/s eta 0:00:01\n",
      "\u001b[?25hCollecting littleutils\n",
      "  Downloading littleutils-0.2.2.tar.gz (6.6 kB)\n",
      "Requirement already satisfied: requests in /Users/lutingyang/opt/anaconda3/lib/python3.8/site-packages (from outdated->pingouin) (2.24.0)\n",
      "Requirement already satisfied: six>=1.5 in /Users/lutingyang/opt/anaconda3/lib/python3.8/site-packages (from python-dateutil>=2.7.3->pandas>=0.24->pingouin) (1.15.0)\n",
      "Requirement already satisfied: setuptools>=40.4 in /Users/lutingyang/opt/anaconda3/lib/python3.8/site-packages (from xarray->pandas_flavor>=0.1.2->pingouin) (50.3.1.post20201107)\n",
      "Requirement already satisfied: idna<3,>=2.5 in /Users/lutingyang/opt/anaconda3/lib/python3.8/site-packages (from requests->outdated->pingouin) (2.10)\n",
      "Requirement already satisfied: chardet<4,>=3.0.2 in /Users/lutingyang/opt/anaconda3/lib/python3.8/site-packages (from requests->outdated->pingouin) (3.0.4)\n",
      "Requirement already satisfied: urllib3!=1.25.0,!=1.25.1,<1.26,>=1.21.1 in /Users/lutingyang/opt/anaconda3/lib/python3.8/site-packages (from requests->outdated->pingouin) (1.25.11)\n",
      "Building wheels for collected packages: pingouin, littleutils\n",
      "  Building wheel for pingouin (setup.py) ... \u001b[?25ldone\n",
      "\u001b[?25h  Created wheel for pingouin: filename=pingouin-0.3.12-py3-none-any.whl size=204286 sha256=c8d7d216dc66d852ad012d45e79c68dcdebd708c5ebbc33a2c8fefe7a0d0aa48\n",
      "  Stored in directory: /Users/lutingyang/Library/Caches/pip/wheels/56/74/f2/a766175283c1c2479db49da5e259a7ffa418ed584d43f5c058\n",
      "  Building wheel for littleutils (setup.py) ... \u001b[?25ldone\n",
      "\u001b[?25h  Created wheel for littleutils: filename=littleutils-0.2.2-py3-none-any.whl size=7049 sha256=fa48a502eadf8e1acb249aff625bda29483cc040d62710ed288be1f0d3602d0d\n",
      "  Stored in directory: /Users/lutingyang/Library/Caches/pip/wheels/6a/33/c4/0ef84d7f5568c2823e3d63a6e08988852fb9e4bc822034870a\n",
      "Successfully built pingouin littleutils\n",
      "Installing collected packages: xarray, pandas-flavor, littleutils, outdated, tabulate, pingouin\n",
      "Successfully installed littleutils-0.2.2 outdated-0.2.1 pandas-flavor-0.2.0 pingouin-0.3.12 tabulate-0.8.9 xarray-0.18.2\n"
     ]
    }
   ],
   "source": [
    "!pip install pingouin"
   ]
  },
  {
   "cell_type": "code",
   "execution_count": 4,
   "metadata": {},
   "outputs": [
    {
     "name": "stdout",
     "output_type": "stream",
     "text": [
      "Collecting researchpy\n",
      "  Downloading researchpy-0.3.2-py3-none-any.whl (15 kB)\n",
      "Requirement already satisfied: pandas in /Users/lutingyang/opt/anaconda3/lib/python3.8/site-packages (from researchpy) (1.1.3)\n",
      "Requirement already satisfied: patsy in /Users/lutingyang/opt/anaconda3/lib/python3.8/site-packages (from researchpy) (0.5.1)\n",
      "Requirement already satisfied: numpy in /Users/lutingyang/opt/anaconda3/lib/python3.8/site-packages (from researchpy) (1.19.2)\n",
      "Requirement already satisfied: statsmodels in /Users/lutingyang/opt/anaconda3/lib/python3.8/site-packages (from researchpy) (0.12.0)\n",
      "Requirement already satisfied: scipy in /Users/lutingyang/opt/anaconda3/lib/python3.8/site-packages (from researchpy) (1.5.2)\n",
      "Requirement already satisfied: pytz>=2017.2 in /Users/lutingyang/opt/anaconda3/lib/python3.8/site-packages (from pandas->researchpy) (2020.1)\n",
      "Requirement already satisfied: python-dateutil>=2.7.3 in /Users/lutingyang/opt/anaconda3/lib/python3.8/site-packages (from pandas->researchpy) (2.8.1)\n",
      "Requirement already satisfied: six in /Users/lutingyang/opt/anaconda3/lib/python3.8/site-packages (from patsy->researchpy) (1.15.0)\n",
      "Installing collected packages: researchpy\n",
      "Successfully installed researchpy-0.3.2\n"
     ]
    }
   ],
   "source": [
    "!pip install researchpy"
   ]
  },
  {
   "cell_type": "code",
   "execution_count": 5,
   "metadata": {
    "colab": {
     "base_uri": "https://localhost:8080/",
     "height": 369
    },
    "executionInfo": {
     "elapsed": 2242,
     "status": "error",
     "timestamp": 1601990565808,
     "user": {
      "displayName": "陳家揚",
      "photoUrl": "",
      "userId": "06507357541156510761"
     },
     "user_tz": -480
    },
    "id": "yz28_IgkYdBW",
    "outputId": "c37195aa-ba80-42fd-a703-58827b7ba98c"
   },
   "outputs": [],
   "source": [
    "# import library\n",
    "import matplotlib.pyplot as plt\n",
    "import numpy as np\n",
    "import pandas as pd\n",
    "from scipy import stats\n",
    "import math\n",
    "import statistics\n",
    "import seaborn as sns\n",
    "from IPython.display import display\n",
    "\n",
    "import pingouin as pg\n",
    "import researchpy   \n",
    "%matplotlib inline"
   ]
  },
  {
   "cell_type": "markdown",
   "metadata": {
    "id": "M6YWLLdqE8GI"
   },
   "source": [
    "## 讀入資料"
   ]
  },
  {
   "cell_type": "code",
   "execution_count": 6,
   "metadata": {
    "id": "TnU74t6BE8GI",
    "outputId": "e660f13b-1eef-4268-e06e-0599dd2455da"
   },
   "outputs": [
    {
     "name": "stdout",
     "output_type": "stream",
     "text": [
      "<class 'pandas.core.frame.DataFrame'>\n",
      "RangeIndex: 891 entries, 0 to 890\n",
      "Data columns (total 12 columns):\n",
      " #   Column       Non-Null Count  Dtype  \n",
      "---  ------       --------------  -----  \n",
      " 0   PassengerId  891 non-null    int64  \n",
      " 1   Survived     891 non-null    int64  \n",
      " 2   Pclass       891 non-null    int64  \n",
      " 3   Name         891 non-null    object \n",
      " 4   Sex          891 non-null    object \n",
      " 5   Age          714 non-null    float64\n",
      " 6   SibSp        891 non-null    int64  \n",
      " 7   Parch        891 non-null    int64  \n",
      " 8   Ticket       891 non-null    object \n",
      " 9   Fare         891 non-null    float64\n",
      " 10  Cabin        204 non-null    object \n",
      " 11  Embarked     889 non-null    object \n",
      "dtypes: float64(2), int64(5), object(5)\n",
      "memory usage: 83.7+ KB\n",
      "None\n"
     ]
    }
   ],
   "source": [
    "df_train = pd.read_csv(\"Titanic_train.csv\")\n",
    "print(df_train.info())"
   ]
  },
  {
   "cell_type": "code",
   "execution_count": 9,
   "metadata": {
    "id": "cITJCaELE8GK"
   },
   "outputs": [
    {
     "name": "stdout",
     "output_type": "stream",
     "text": [
      "<class 'pandas.core.frame.DataFrame'>\n",
      "RangeIndex: 891 entries, 0 to 890\n",
      "Data columns (total 13 columns):\n",
      " #   Column         Non-Null Count  Dtype  \n",
      "---  ------         --------------  -----  \n",
      " 0   PassengerId    891 non-null    int64  \n",
      " 1   Survived       891 non-null    int64  \n",
      " 2   Pclass         891 non-null    int64  \n",
      " 3   Name           891 non-null    object \n",
      " 4   Sex            891 non-null    object \n",
      " 5   Age            714 non-null    float64\n",
      " 6   SibSp          891 non-null    int64  \n",
      " 7   Parch          891 non-null    int64  \n",
      " 8   Ticket         891 non-null    object \n",
      " 9   Fare           891 non-null    float64\n",
      " 10  Cabin          204 non-null    object \n",
      " 11  Embarked       889 non-null    object \n",
      " 12  Survived_cate  891 non-null    object \n",
      "dtypes: float64(2), int64(5), object(6)\n",
      "memory usage: 90.6+ KB\n"
     ]
    }
   ],
   "source": [
    "## 這邊我們做一個調整，把 Survived 變成離散型變數 Survived_cate\n",
    "df_train['Survived_cate'] = df_train.Survived.astype('object')\n",
    "df_train.info()"
   ]
  },
  {
   "cell_type": "markdown",
   "metadata": {
    "id": "YN-BISG4E8GM"
   },
   "source": [
    "###  Q1: 透過數值法計算  Age 和  Survived  是否有相關性?\n"
   ]
  },
  {
   "cell_type": "code",
   "execution_count": null,
   "metadata": {},
   "outputs": [],
   "source": [
    "# Age 是連續，Survived_cate 是離散\n",
    "# 用 eta square"
   ]
  },
  {
   "cell_type": "code",
   "execution_count": 10,
   "metadata": {},
   "outputs": [
    {
     "data": {
      "text/html": [
       "<div>\n",
       "<style scoped>\n",
       "    .dataframe tbody tr th:only-of-type {\n",
       "        vertical-align: middle;\n",
       "    }\n",
       "\n",
       "    .dataframe tbody tr th {\n",
       "        vertical-align: top;\n",
       "    }\n",
       "\n",
       "    .dataframe thead th {\n",
       "        text-align: right;\n",
       "    }\n",
       "</style>\n",
       "<table border=\"1\" class=\"dataframe\">\n",
       "  <thead>\n",
       "    <tr style=\"text-align: right;\">\n",
       "      <th></th>\n",
       "      <th>Age</th>\n",
       "      <th>Survived_cate</th>\n",
       "    </tr>\n",
       "  </thead>\n",
       "  <tbody>\n",
       "    <tr>\n",
       "      <th>0</th>\n",
       "      <td>22.0</td>\n",
       "      <td>0</td>\n",
       "    </tr>\n",
       "    <tr>\n",
       "      <th>1</th>\n",
       "      <td>38.0</td>\n",
       "      <td>1</td>\n",
       "    </tr>\n",
       "    <tr>\n",
       "      <th>2</th>\n",
       "      <td>26.0</td>\n",
       "      <td>1</td>\n",
       "    </tr>\n",
       "    <tr>\n",
       "      <th>3</th>\n",
       "      <td>35.0</td>\n",
       "      <td>1</td>\n",
       "    </tr>\n",
       "    <tr>\n",
       "      <th>4</th>\n",
       "      <td>35.0</td>\n",
       "      <td>0</td>\n",
       "    </tr>\n",
       "    <tr>\n",
       "      <th>...</th>\n",
       "      <td>...</td>\n",
       "      <td>...</td>\n",
       "    </tr>\n",
       "    <tr>\n",
       "      <th>885</th>\n",
       "      <td>39.0</td>\n",
       "      <td>0</td>\n",
       "    </tr>\n",
       "    <tr>\n",
       "      <th>886</th>\n",
       "      <td>27.0</td>\n",
       "      <td>0</td>\n",
       "    </tr>\n",
       "    <tr>\n",
       "      <th>887</th>\n",
       "      <td>19.0</td>\n",
       "      <td>1</td>\n",
       "    </tr>\n",
       "    <tr>\n",
       "      <th>889</th>\n",
       "      <td>26.0</td>\n",
       "      <td>1</td>\n",
       "    </tr>\n",
       "    <tr>\n",
       "      <th>890</th>\n",
       "      <td>32.0</td>\n",
       "      <td>0</td>\n",
       "    </tr>\n",
       "  </tbody>\n",
       "</table>\n",
       "<p>714 rows × 2 columns</p>\n",
       "</div>"
      ],
      "text/plain": [
       "      Age Survived_cate\n",
       "0    22.0             0\n",
       "1    38.0             1\n",
       "2    26.0             1\n",
       "3    35.0             1\n",
       "4    35.0             0\n",
       "..    ...           ...\n",
       "885  39.0             0\n",
       "886  27.0             0\n",
       "887  19.0             1\n",
       "889  26.0             1\n",
       "890  32.0             0\n",
       "\n",
       "[714 rows x 2 columns]"
      ]
     },
     "metadata": {},
     "output_type": "display_data"
    }
   ],
   "source": [
    "data = df_train[['Age', 'Survived_cate']].dropna()\n",
    "display(data)"
   ]
  },
  {
   "cell_type": "code",
   "execution_count": 13,
   "metadata": {},
   "outputs": [
    {
     "data": {
      "text/html": [
       "<div>\n",
       "<style scoped>\n",
       "    .dataframe tbody tr th:only-of-type {\n",
       "        vertical-align: middle;\n",
       "    }\n",
       "\n",
       "    .dataframe tbody tr th {\n",
       "        vertical-align: top;\n",
       "    }\n",
       "\n",
       "    .dataframe thead th {\n",
       "        text-align: right;\n",
       "    }\n",
       "</style>\n",
       "<table border=\"1\" class=\"dataframe\">\n",
       "  <thead>\n",
       "    <tr style=\"text-align: right;\">\n",
       "      <th></th>\n",
       "      <th>Source</th>\n",
       "      <th>SS</th>\n",
       "      <th>DF</th>\n",
       "      <th>MS</th>\n",
       "      <th>F</th>\n",
       "      <th>p-unc</th>\n",
       "      <th>np2</th>\n",
       "    </tr>\n",
       "  </thead>\n",
       "  <tbody>\n",
       "    <tr>\n",
       "      <th>0</th>\n",
       "      <td>Survived_cate</td>\n",
       "      <td>897.187582</td>\n",
       "      <td>1</td>\n",
       "      <td>897.187582</td>\n",
       "      <td>4.271195</td>\n",
       "      <td>0.039125</td>\n",
       "      <td>0.005963</td>\n",
       "    </tr>\n",
       "    <tr>\n",
       "      <th>1</th>\n",
       "      <td>Within</td>\n",
       "      <td>149559.448362</td>\n",
       "      <td>712</td>\n",
       "      <td>210.055405</td>\n",
       "      <td>NaN</td>\n",
       "      <td>NaN</td>\n",
       "      <td>NaN</td>\n",
       "    </tr>\n",
       "  </tbody>\n",
       "</table>\n",
       "</div>"
      ],
      "text/plain": [
       "          Source             SS   DF          MS         F     p-unc       np2\n",
       "0  Survived_cate     897.187582    1  897.187582  4.271195  0.039125  0.005963\n",
       "1         Within  149559.448362  712  210.055405       NaN       NaN       NaN"
      ]
     },
     "execution_count": 13,
     "metadata": {},
     "output_type": "execute_result"
    }
   ],
   "source": [
    "aov = pg.anova(dv='Age', between='Survived_cate', data=data, detailed=True)\n",
    "aov"
   ]
  },
  {
   "cell_type": "code",
   "execution_count": 14,
   "metadata": {},
   "outputs": [
    {
     "data": {
      "text/plain": [
       "0.0059630974469252"
      ]
     },
     "execution_count": 14,
     "metadata": {},
     "output_type": "execute_result"
    }
   ],
   "source": [
    "etaSq = aov.SS[0]/(aov.SS[0]+aov.SS[1])\n",
    "etaSq"
   ]
  },
  {
   "cell_type": "code",
   "execution_count": 15,
   "metadata": {},
   "outputs": [
    {
     "data": {
      "text/plain": [
       "'Negligible'"
      ]
     },
     "execution_count": 15,
     "metadata": {},
     "output_type": "execute_result"
    }
   ],
   "source": [
    "def judgement_etaSq(etaSq):\n",
    "    if etaSq < 0.01:\n",
    "        qual = 'Negligible'\n",
    "    elif etaSq < 0.06:\n",
    "        qual = 'Small'\n",
    "    elif etaSq < 0.14:\n",
    "        qual = 'Medium'\n",
    "    else:\n",
    "        qual = 'Large'\n",
    "    return qual\n",
    "judgement_etaSq(etaSq)"
   ]
  },
  {
   "cell_type": "code",
   "execution_count": 18,
   "metadata": {},
   "outputs": [
    {
     "data": {
      "image/png": "[encoded data removed]",
      "text/plain": [
       "<Figure size 360x360 with 1 Axes>"
      ]
     },
     "metadata": {
      "needs_background": "light"
     },
     "output_type": "display_data"
    }
   ],
   "source": [
    "g = sns.catplot(x='Survived_cate', y='Age', data=data, kind='violin')"
   ]
  },
  {
   "cell_type": "code",
   "execution_count": null,
   "metadata": {},
   "outputs": [],
   "source": [
    "# Age和Survived_cate沒有相關性"
   ]
  },
  {
   "cell_type": "markdown",
   "metadata": {
    "id": "8dlu8RnNE8GN"
   },
   "source": [
    "### Q2:透過數值法計算  Sex 和 Survived  是否有相關性?\n"
   ]
  },
  {
   "cell_type": "code",
   "execution_count": null,
   "metadata": {},
   "outputs": [],
   "source": [
    "# Sex是離散，Survived_cate是離散，用Cramer's V"
   ]
  },
  {
   "cell_type": "code",
   "execution_count": 19,
   "metadata": {},
   "outputs": [
    {
     "data": {
      "text/html": [
       "<div>\n",
       "<style scoped>\n",
       "    .dataframe tbody tr th:only-of-type {\n",
       "        vertical-align: middle;\n",
       "    }\n",
       "\n",
       "    .dataframe tbody tr th {\n",
       "        vertical-align: top;\n",
       "    }\n",
       "\n",
       "    .dataframe thead th {\n",
       "        text-align: right;\n",
       "    }\n",
       "</style>\n",
       "<table border=\"1\" class=\"dataframe\">\n",
       "  <thead>\n",
       "    <tr style=\"text-align: right;\">\n",
       "      <th>Survived</th>\n",
       "      <th>0</th>\n",
       "      <th>1</th>\n",
       "    </tr>\n",
       "    <tr>\n",
       "      <th>Sex</th>\n",
       "      <th></th>\n",
       "      <th></th>\n",
       "    </tr>\n",
       "  </thead>\n",
       "  <tbody>\n",
       "    <tr>\n",
       "      <th>female</th>\n",
       "      <td>81</td>\n",
       "      <td>233</td>\n",
       "    </tr>\n",
       "    <tr>\n",
       "      <th>male</th>\n",
       "      <td>468</td>\n",
       "      <td>109</td>\n",
       "    </tr>\n",
       "  </tbody>\n",
       "</table>\n",
       "</div>"
      ],
      "text/plain": [
       "Survived    0    1\n",
       "Sex               \n",
       "female     81  233\n",
       "male      468  109"
      ]
     },
     "execution_count": 19,
     "metadata": {},
     "output_type": "execute_result"
    }
   ],
   "source": [
    "contTable = pd.crosstab(df_train.Sex, df_train.Survived_cate)\n",
    "contTable"
   ]
  },
  {
   "cell_type": "code",
   "execution_count": 20,
   "metadata": {},
   "outputs": [
    {
     "data": {
      "text/plain": [
       "1"
      ]
     },
     "execution_count": 20,
     "metadata": {},
     "output_type": "execute_result"
    }
   ],
   "source": [
    "df = min(contTable.shape[0], contTable.shape[1])-1\n",
    "df"
   ]
  },
  {
   "cell_type": "code",
   "execution_count": 22,
   "metadata": {},
   "outputs": [
    {
     "name": "stdout",
     "output_type": "stream",
     "text": [
      "                Chi-square test   results\n",
      "0  Pearson Chi-square ( 1.0) =   263.0506\n",
      "1                    p-value =     0.0000\n",
      "2               Cramer's phi =     0.5434\n",
      "Cramer's value is 0.5434\n"
     ]
    }
   ],
   "source": [
    "crosstab, res = researchpy.crosstab(df_train.Sex, df_train.Survived_cate, test='chi-square')\n",
    "print(res)\n",
    "print(\"Cramer's value is\", res.loc[2,'results'])"
   ]
  },
  {
   "cell_type": "code",
   "execution_count": 25,
   "metadata": {},
   "outputs": [
    {
     "data": {
      "text/plain": [
       "'Large'"
      ]
     },
     "execution_count": 25,
     "metadata": {},
     "output_type": "execute_result"
    }
   ],
   "source": [
    "def judgement_CramerV(df, V):\n",
    "    if df == 1:\n",
    "        if V < 0.1:\n",
    "            qual = 'Negligible'\n",
    "        elif V < 0.3:\n",
    "            qual = 'Small'\n",
    "        elif V < 0.5:\n",
    "            qual = 'Medium'\n",
    "        else:\n",
    "            qual = 'Large'\n",
    "            \n",
    "    elif df == 2:\n",
    "        if V < 0.07:\n",
    "            qual = 'Negligible'\n",
    "        elif V < 0.21:\n",
    "            qual = 'Small'\n",
    "        elif V < 0.35:\n",
    "            qual = 'Medium'\n",
    "        else:\n",
    "            qual = 'Large'\n",
    "            \n",
    "    elif df == 3:\n",
    "        if V < 0.06:\n",
    "            qual = 'Negligible'\n",
    "        elif V < 0.17:\n",
    "            qual = 'Small'\n",
    "        elif V < 0.29:\n",
    "            qual = 'Medium'\n",
    "        else:\n",
    "            qual = 'Large'\n",
    "    \n",
    "    elif df == 4:\n",
    "        if V < 0.05:\n",
    "            qual = 'Negligible'\n",
    "        elif V < 0.15:\n",
    "            qual = 'Small'\n",
    "        elif V < 0.25:\n",
    "            qual = 'Medium'\n",
    "        else:\n",
    "            qual = 'Large'\n",
    "    \n",
    "    else:\n",
    "        if V < 0.05:\n",
    "            qual = 'Negligible'\n",
    "        elif V < 0.13:\n",
    "            qual = 'Small'\n",
    "        elif V < 0.22:\n",
    "            qual = 'Medium'\n",
    "        else:\n",
    "            qual = 'Large'\n",
    "    return qual\n",
    "\n",
    "judgement_CramerV(df, res.loc[2,'results'])"
   ]
  },
  {
   "cell_type": "code",
   "execution_count": 26,
   "metadata": {},
   "outputs": [
    {
     "data": {
      "image/png": "[encoded data removed]",
      "text/plain": [
       "<Figure size 432x288 with 1 Axes>"
      ]
     },
     "metadata": {
      "needs_background": "light"
     },
     "output_type": "display_data"
    }
   ],
   "source": [
    "g = sns.countplot(x='Sex', hue='Survived_cate', data=df_train)"
   ]
  },
  {
   "cell_type": "code",
   "execution_count": null,
   "metadata": {},
   "outputs": [],
   "source": [
    "# Sex和Survived_cate有高度相關"
   ]
  },
  {
   "cell_type": "markdown",
   "metadata": {
    "id": "6SxLGI6sE8GN"
   },
   "source": [
    "### Q3: 透過數值法計算  Age 和  Fare 是否有相關性?  "
   ]
  },
  {
   "cell_type": "code",
   "execution_count": null,
   "metadata": {},
   "outputs": [],
   "source": [
    "# Age是連續，Fare是連續，用peason correlaiton"
   ]
  },
  {
   "cell_type": "code",
   "execution_count": 27,
   "metadata": {},
   "outputs": [
    {
     "data": {
      "text/html": [
       "<div>\n",
       "<style scoped>\n",
       "    .dataframe tbody tr th:only-of-type {\n",
       "        vertical-align: middle;\n",
       "    }\n",
       "\n",
       "    .dataframe tbody tr th {\n",
       "        vertical-align: top;\n",
       "    }\n",
       "\n",
       "    .dataframe thead th {\n",
       "        text-align: right;\n",
       "    }\n",
       "</style>\n",
       "<table border=\"1\" class=\"dataframe\">\n",
       "  <thead>\n",
       "    <tr style=\"text-align: right;\">\n",
       "      <th></th>\n",
       "      <th>Age</th>\n",
       "      <th>Fare</th>\n",
       "    </tr>\n",
       "  </thead>\n",
       "  <tbody>\n",
       "    <tr>\n",
       "      <th>0</th>\n",
       "      <td>22.0</td>\n",
       "      <td>7.2500</td>\n",
       "    </tr>\n",
       "    <tr>\n",
       "      <th>1</th>\n",
       "      <td>38.0</td>\n",
       "      <td>71.2833</td>\n",
       "    </tr>\n",
       "    <tr>\n",
       "      <th>2</th>\n",
       "      <td>26.0</td>\n",
       "      <td>7.9250</td>\n",
       "    </tr>\n",
       "    <tr>\n",
       "      <th>3</th>\n",
       "      <td>35.0</td>\n",
       "      <td>53.1000</td>\n",
       "    </tr>\n",
       "    <tr>\n",
       "      <th>4</th>\n",
       "      <td>35.0</td>\n",
       "      <td>8.0500</td>\n",
       "    </tr>\n",
       "    <tr>\n",
       "      <th>...</th>\n",
       "      <td>...</td>\n",
       "      <td>...</td>\n",
       "    </tr>\n",
       "    <tr>\n",
       "      <th>885</th>\n",
       "      <td>39.0</td>\n",
       "      <td>29.1250</td>\n",
       "    </tr>\n",
       "    <tr>\n",
       "      <th>886</th>\n",
       "      <td>27.0</td>\n",
       "      <td>13.0000</td>\n",
       "    </tr>\n",
       "    <tr>\n",
       "      <th>887</th>\n",
       "      <td>19.0</td>\n",
       "      <td>30.0000</td>\n",
       "    </tr>\n",
       "    <tr>\n",
       "      <th>889</th>\n",
       "      <td>26.0</td>\n",
       "      <td>30.0000</td>\n",
       "    </tr>\n",
       "    <tr>\n",
       "      <th>890</th>\n",
       "      <td>32.0</td>\n",
       "      <td>7.7500</td>\n",
       "    </tr>\n",
       "  </tbody>\n",
       "</table>\n",
       "<p>714 rows × 2 columns</p>\n",
       "</div>"
      ],
      "text/plain": [
       "      Age     Fare\n",
       "0    22.0   7.2500\n",
       "1    38.0  71.2833\n",
       "2    26.0   7.9250\n",
       "3    35.0  53.1000\n",
       "4    35.0   8.0500\n",
       "..    ...      ...\n",
       "885  39.0  29.1250\n",
       "886  27.0  13.0000\n",
       "887  19.0  30.0000\n",
       "889  26.0  30.0000\n",
       "890  32.0   7.7500\n",
       "\n",
       "[714 rows x 2 columns]"
      ]
     },
     "execution_count": 27,
     "metadata": {},
     "output_type": "execute_result"
    }
   ],
   "source": [
    "data2 = df_train[['Age', 'Fare']].dropna()\n",
    "data2"
   ]
  },
  {
   "cell_type": "code",
   "execution_count": 28,
   "metadata": {},
   "outputs": [
    {
     "data": {
      "text/plain": [
       "0.0960666917690389"
      ]
     },
     "execution_count": 28,
     "metadata": {},
     "output_type": "execute_result"
    }
   ],
   "source": [
    "corr, _ = stats.pearsonr(data2.Age, data2.Fare)\n",
    "corr"
   ]
  },
  {
   "cell_type": "code",
   "execution_count": 30,
   "metadata": {},
   "outputs": [
    {
     "data": {
      "image/png": "[encoded data removed]",
      "text/plain": [
       "<Figure size 432x288 with 1 Axes>"
      ]
     },
     "metadata": {
      "needs_background": "light"
     },
     "output_type": "display_data"
    }
   ],
   "source": [
    "g = sns.regplot(x='Age', y='Fare', color='b', data=data2)"
   ]
  },
  {
   "cell_type": "code",
   "execution_count": null,
   "metadata": {},
   "outputs": [],
   "source": [
    "# Age 和 Fare 沒有線性相關"
   ]
  }
 ],
 "metadata": {
  "colab": {
   "name": "作業.ipynb",
   "provenance": []
  },
  "kernelspec": {
   "display_name": "Python 3",
   "language": "python",
   "name": "python3"
  },
  "language_info": {
   "codemirror_mode": {
    "name": "ipython",
    "version": 3
   },
   "file_extension": ".py",
   "mimetype": "text/x-python",
   "name": "python",
   "nbconvert_exporter": "python",
   "pygments_lexer": "ipython3",
   "version": "3.8.5"
  }
 },
 "nbformat": 4,
 "nbformat_minor": 1
}
